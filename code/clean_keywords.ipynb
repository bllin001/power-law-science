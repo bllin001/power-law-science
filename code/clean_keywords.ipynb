{
 "cells": [
  {
   "cell_type": "code",
   "execution_count": 16,
   "metadata": {},
   "outputs": [],
   "source": [
    "import pandas as pd\n",
    "import glob\n",
    "import os\n",
    "from pycountry import countries"
   ]
  },
  {
   "cell_type": "code",
   "execution_count": 17,
   "metadata": {},
   "outputs": [],
   "source": [
    "def is_country(concept):\n",
    "    try:\n",
    "        # Try to get the country by name\n",
    "        if countries.lookup(concept):\n",
    "            return \"Country\"\n",
    "    except LookupError:\n",
    "        return \"Other\""
   ]
  },
  {
   "cell_type": "code",
   "execution_count": 18,
   "metadata": {},
   "outputs": [
    {
     "data": {
      "text/plain": [
       "['../data/authors_keyword_frequency.csv',\n",
       " '../data/index_keyword_frequency.csv',\n",
       " '../data/all_keyword_frequency.csv']"
      ]
     },
     "execution_count": 18,
     "metadata": {},
     "output_type": "execute_result"
    }
   ],
   "source": [
    "# Use glob to find all files matching the pattern\n",
    "all_filenames = glob.glob('../data/*_keyword_frequency.csv')\n",
    "\n",
    "# Exclude files that have 'cleaned' in their names\n",
    "dataset_filenames = [filename for filename in all_filenames if 'cleaned' not in filename]\n",
    "\n",
    "dataset_filenames"
   ]
  },
  {
   "cell_type": "code",
   "execution_count": 19,
   "metadata": {},
   "outputs": [
    {
     "name": "stdout",
     "output_type": "stream",
     "text": [
      "Number of stop words: 1478\n"
     ]
    }
   ],
   "source": [
    "# Load the stop words dataset\n",
    "stop_words_df = pd.read_csv('../data/StopWord.csv')\n",
    "stop_words = stop_words_df['StopWord'].tolist()\n",
    "print(f\"Number of stop words: {len(stop_words)}\")"
   ]
  },
  {
   "cell_type": "code",
   "execution_count": 20,
   "metadata": {},
   "outputs": [
    {
     "name": "stdout",
     "output_type": "stream",
     "text": [
      "Number of concepts to clean: 62\n"
     ]
    }
   ],
   "source": [
    "# Load the thesaurus terms\n",
    "thesaurus_df = pd.read_csv('../data/thesaurus_terms.txt', delimiter=';', names=['Label', 'Replace by'])\n",
    "\n",
    "# Create a dictionary for replacements\n",
    "thesaurus_dict = pd.Series(thesaurus_df['Replace by'].values, index=thesaurus_df['Label']).to_dict()\n",
    "print(f\"Number of concepts to clean: {len(thesaurus_dict)}\")"
   ]
  },
  {
   "cell_type": "code",
   "execution_count": 21,
   "metadata": {},
   "outputs": [],
   "source": [
    "# Define the function to clean and replace concepts\n",
    "def clean_replace_concept(concept):\n",
    "    concept = concept.strip()  # Remove leading/trailing whitespace\n",
    "    return thesaurus_dict.get(concept, concept)  # Replace if in dictionary, else return original\n"
   ]
  },
  {
   "cell_type": "code",
   "execution_count": 22,
   "metadata": {},
   "outputs": [
    {
     "name": "stderr",
     "output_type": "stream",
     "text": [
      "/var/folders/vt/9xf6xhpx3b16kyttfwqfh3kr0000gr/T/ipykernel_89508/2181408885.py:13: SettingWithCopyWarning: \n",
      "A value is trying to be set on a copy of a slice from a DataFrame.\n",
      "Try using .loc[row_indexer,col_indexer] = value instead\n",
      "\n",
      "See the caveats in the documentation: https://pandas.pydata.org/pandas-docs/stable/user_guide/indexing.html#returning-a-view-versus-a-copy\n",
      "  cleaned_df['Concepts'] = cleaned_df['Concepts'].apply(clean_replace_concept)\n",
      "/var/folders/vt/9xf6xhpx3b16kyttfwqfh3kr0000gr/T/ipykernel_89508/2181408885.py:16: SettingWithCopyWarning: \n",
      "A value is trying to be set on a copy of a slice from a DataFrame.\n",
      "Try using .loc[row_indexer,col_indexer] = value instead\n",
      "\n",
      "See the caveats in the documentation: https://pandas.pydata.org/pandas-docs/stable/user_guide/indexing.html#returning-a-view-versus-a-copy\n",
      "  cleaned_df['Concepts'] = cleaned_df['Concepts'].str.strip()\n",
      "/var/folders/vt/9xf6xhpx3b16kyttfwqfh3kr0000gr/T/ipykernel_89508/2181408885.py:19: SettingWithCopyWarning: \n",
      "A value is trying to be set on a copy of a slice from a DataFrame.\n",
      "Try using .loc[row_indexer,col_indexer] = value instead\n",
      "\n",
      "See the caveats in the documentation: https://pandas.pydata.org/pandas-docs/stable/user_guide/indexing.html#returning-a-view-versus-a-copy\n",
      "  cleaned_df.loc[:, 'Category'] = cleaned_df['Concepts'].apply(is_country)\n",
      "/var/folders/vt/9xf6xhpx3b16kyttfwqfh3kr0000gr/T/ipykernel_89508/2181408885.py:13: SettingWithCopyWarning: \n",
      "A value is trying to be set on a copy of a slice from a DataFrame.\n",
      "Try using .loc[row_indexer,col_indexer] = value instead\n",
      "\n",
      "See the caveats in the documentation: https://pandas.pydata.org/pandas-docs/stable/user_guide/indexing.html#returning-a-view-versus-a-copy\n",
      "  cleaned_df['Concepts'] = cleaned_df['Concepts'].apply(clean_replace_concept)\n",
      "/var/folders/vt/9xf6xhpx3b16kyttfwqfh3kr0000gr/T/ipykernel_89508/2181408885.py:16: SettingWithCopyWarning: \n",
      "A value is trying to be set on a copy of a slice from a DataFrame.\n",
      "Try using .loc[row_indexer,col_indexer] = value instead\n",
      "\n",
      "See the caveats in the documentation: https://pandas.pydata.org/pandas-docs/stable/user_guide/indexing.html#returning-a-view-versus-a-copy\n",
      "  cleaned_df['Concepts'] = cleaned_df['Concepts'].str.strip()\n",
      "/var/folders/vt/9xf6xhpx3b16kyttfwqfh3kr0000gr/T/ipykernel_89508/2181408885.py:19: SettingWithCopyWarning: \n",
      "A value is trying to be set on a copy of a slice from a DataFrame.\n",
      "Try using .loc[row_indexer,col_indexer] = value instead\n",
      "\n",
      "See the caveats in the documentation: https://pandas.pydata.org/pandas-docs/stable/user_guide/indexing.html#returning-a-view-versus-a-copy\n",
      "  cleaned_df.loc[:, 'Category'] = cleaned_df['Concepts'].apply(is_country)\n",
      "/var/folders/vt/9xf6xhpx3b16kyttfwqfh3kr0000gr/T/ipykernel_89508/2181408885.py:13: SettingWithCopyWarning: \n",
      "A value is trying to be set on a copy of a slice from a DataFrame.\n",
      "Try using .loc[row_indexer,col_indexer] = value instead\n",
      "\n",
      "See the caveats in the documentation: https://pandas.pydata.org/pandas-docs/stable/user_guide/indexing.html#returning-a-view-versus-a-copy\n",
      "  cleaned_df['Concepts'] = cleaned_df['Concepts'].apply(clean_replace_concept)\n",
      "/var/folders/vt/9xf6xhpx3b16kyttfwqfh3kr0000gr/T/ipykernel_89508/2181408885.py:16: SettingWithCopyWarning: \n",
      "A value is trying to be set on a copy of a slice from a DataFrame.\n",
      "Try using .loc[row_indexer,col_indexer] = value instead\n",
      "\n",
      "See the caveats in the documentation: https://pandas.pydata.org/pandas-docs/stable/user_guide/indexing.html#returning-a-view-versus-a-copy\n",
      "  cleaned_df['Concepts'] = cleaned_df['Concepts'].str.strip()\n",
      "/var/folders/vt/9xf6xhpx3b16kyttfwqfh3kr0000gr/T/ipykernel_89508/2181408885.py:19: SettingWithCopyWarning: \n",
      "A value is trying to be set on a copy of a slice from a DataFrame.\n",
      "Try using .loc[row_indexer,col_indexer] = value instead\n",
      "\n",
      "See the caveats in the documentation: https://pandas.pydata.org/pandas-docs/stable/user_guide/indexing.html#returning-a-view-versus-a-copy\n",
      "  cleaned_df.loc[:, 'Category'] = cleaned_df['Concepts'].apply(is_country)\n"
     ]
    }
   ],
   "source": [
    "# Initialize an empty list to store cleaned DataFrames\n",
    "cleaned_dataframes = []\n",
    "\n",
    "# Process each dataset\n",
    "for filename in dataset_filenames:\n",
    "    # Load the dataset\n",
    "    df = pd.read_csv(filename)\n",
    "    \n",
    "    # Filter out rows where the keyword is in the stop words list\n",
    "    cleaned_df = df[~df['Concepts'].isin(stop_words)]\n",
    "    \n",
    "    # Clean and replace concepts using thesaurus\n",
    "    cleaned_df['Concepts'] = cleaned_df['Concepts'].apply(clean_replace_concept)\n",
    "    \n",
    "    # Strip leading/trailing whitespace from concepts\n",
    "    cleaned_df['Concepts'] = cleaned_df['Concepts'].str.strip()\n",
    "    \n",
    "    # Assign category based on the country using .loc to avoid SettingWithCopyWarning\n",
    "    cleaned_df.loc[:, 'Category'] = cleaned_df['Concepts'].apply(is_country)\n",
    "    \n",
    "    # Filter out rows where Category is 'Country'\n",
    "    cleaned_df = cleaned_df[cleaned_df['Category'] != 'Country']\n",
    "    \n",
    "    # Select Concepts and Total column\n",
    "    cleaned_df = cleaned_df[['Concepts', 'Total']]\n",
    "    \n",
    "    # Group by the cleaned concepts and recalculate the total\n",
    "    cleaned_df = cleaned_df.groupby(['Concepts']).agg({'Total': 'sum'}).reset_index()\n",
    "    \n",
    "    # Sort values and select top 200\n",
    "    cleaned_df = cleaned_df.sort_values('Total', ascending=False).head(100)\n",
    "    \n",
    "    # Append the cleaned DataFrame to the list\n",
    "    cleaned_dataframes.append(cleaned_df)\n",
    "    \n",
    "    # Save the cleaned DataFrame to a new CSV file in the 'dataset' folder\n",
    "    cleaned_filename = os.path.join('../data', os.path.basename(filename).replace('keyword_frequency', 'cleaned_keyword_frequency'))\n",
    "    cleaned_df.to_csv(cleaned_filename, index=False)"
   ]
  }
 ],
 "metadata": {
  "kernelspec": {
   "display_name": "Python 3",
   "language": "python",
   "name": "python3"
  },
  "language_info": {
   "codemirror_mode": {
    "name": "ipython",
    "version": 3
   },
   "file_extension": ".py",
   "mimetype": "text/x-python",
   "name": "python",
   "nbconvert_exporter": "python",
   "pygments_lexer": "ipython3",
   "version": "3.11.6"
  }
 },
 "nbformat": 4,
 "nbformat_minor": 2
}
