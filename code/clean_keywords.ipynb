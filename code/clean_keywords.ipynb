{
 "cells": [
  {
   "cell_type": "code",
   "execution_count": 9,
   "metadata": {},
   "outputs": [],
   "source": [
    "import pandas as pd\n",
    "import glob\n",
    "import os"
   ]
  },
  {
   "cell_type": "code",
   "execution_count": 4,
   "metadata": {},
   "outputs": [
    {
     "data": {
      "text/plain": [
       "['../data/authors_keyword_frequency.csv',\n",
       " '../data/index_keyword_frequency.csv',\n",
       " '../data/all_keyword_frequency.csv']"
      ]
     },
     "execution_count": 4,
     "metadata": {},
     "output_type": "execute_result"
    }
   ],
   "source": [
    "# Use glob to find all files matching the pattern\n",
    "dataset_filenames = glob.glob('../data/*_keyword_frequency.csv')\n",
    "dataset_filenames"
   ]
  },
  {
   "cell_type": "code",
   "execution_count": 8,
   "metadata": {},
   "outputs": [
    {
     "name": "stdout",
     "output_type": "stream",
     "text": [
      "Number of stop words: 1478\n"
     ]
    }
   ],
   "source": [
    "# Load the stop words dataset\n",
    "stop_words_df = pd.read_csv('../data/StopWord.csv')\n",
    "stop_words = stop_words_df['StopWord'].tolist()\n",
    "print(f\"Number of stop words: {len(stop_words)}\")"
   ]
  },
  {
   "cell_type": "code",
   "execution_count": 14,
   "metadata": {},
   "outputs": [],
   "source": [
    "# Initialize an empty list to store cleaned DataFrames\n",
    "cleaned_dataframes = []\n",
    "\n",
    "# Process each dataset\n",
    "for filename in dataset_filenames:\n",
    "    # Load the dataset\n",
    "    df = pd.read_csv(filename)\n",
    "    \n",
    "    # Filter out rows where the keyword is in the stop words list\n",
    "    cleaned_df = df[~df['Concepts'].isin(stop_words)]\n",
    "    \n",
    "    # Keep only the 'Concepts' and 'Total' columns\n",
    "    cleaned_df = cleaned_df[['Concepts', 'Total']]\n",
    "    \n",
    "    # Append the cleaned DataFrame to the list\n",
    "    cleaned_dataframes.append(cleaned_df)\n",
    "\n",
    "    # Save the cleaned DataFrame to a new CSV file in the 'dataset' folder\n",
    "    cleaned_filename = os.path.join('../data', os.path.basename(filename).replace('keyword_frequency', 'cleaned_keyword_frequency'))\n",
    "    cleaned_df.to_csv(cleaned_filename, index=False)"
   ]
  }
 ],
 "metadata": {
  "kernelspec": {
   "display_name": "Python 3",
   "language": "python",
   "name": "python3"
  },
  "language_info": {
   "codemirror_mode": {
    "name": "ipython",
    "version": 3
   },
   "file_extension": ".py",
   "mimetype": "text/x-python",
   "name": "python",
   "nbconvert_exporter": "python",
   "pygments_lexer": "ipython3",
   "version": "3.11.6"
  }
 },
 "nbformat": 4,
 "nbformat_minor": 2
}
